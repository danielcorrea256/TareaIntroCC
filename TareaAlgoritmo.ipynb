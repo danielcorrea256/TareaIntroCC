{
  "nbformat": 4,
  "nbformat_minor": 0,
  "metadata": {
    "colab": {
      "provenance": [],
      "authorship_tag": "ABX9TyN4qlZDdnWBnj5pfw0Vjigy",
      "include_colab_link": true
    },
    "kernelspec": {
      "name": "python3",
      "display_name": "Python 3"
    },
    "language_info": {
      "name": "python"
    }
  },
  "cells": [
    {
      "cell_type": "markdown",
      "metadata": {
        "id": "view-in-github",
        "colab_type": "text"
      },
      "source": [
        "<a href=\"https://colab.research.google.com/github/danielcorrea256/TareaIntroCC/blob/main/TareaAlgoritmo.ipynb\" target=\"_parent\"><img src=\"https://colab.research.google.com/assets/colab-badge.svg\" alt=\"Open In Colab\"/></a>"
      ]
    },
    {
      "cell_type": "code",
      "source": [
        "# Librerias para graficar y crear ejemplos\n",
        "import matplotlib.pyplot as plt\n",
        "import numpy as np"
      ],
      "metadata": {
        "id": "N5VhA_dkvfo8"
      },
      "execution_count": null,
      "outputs": []
    },
    {
      "cell_type": "markdown",
      "source": [
        "# 1 Dimension"
      ],
      "metadata": {
        "id": "oOHzZ94Taz4-"
      }
    },
    {
      "cell_type": "markdown",
      "source": [
        "### 1. Describa un algoritmo para determinar las 2-medias óptimas de un conjunto de n datos en $\\mathbb{R}^1$\n"
      ],
      "metadata": {
        "id": "fRobnAYbPuht"
      }
    },
    {
      "cell_type": "markdown",
      "source": [
        "La idea general del algoritmo es\n",
        "\n",
        "1. Inicializar dos arreglos en $O(n)$ para que contengan una informacion para despues consultar en $O(1)$\n",
        "\n",
        "$$preffix[i] = \\sum_{k = 0}^{i - 1} data[k]$$\n",
        "$$preffix\\_squared[i] = \\sum_{k = 0}^{i - 1} data[k]^2$$\n",
        "\n",
        "Para ello, se crea la funcion `initialize_preffix_sums`, que crea los arreglos iterando de 0 hasta n, lo cual le toma $O(n)$ operaciones"
      ],
      "metadata": {
        "id": "Cwrqiy5jvtn8"
      }
    },
    {
      "cell_type": "code",
      "source": [
        "preffix = []          # Variable Global\n",
        "preffix_squared = []  # Variable Global\n",
        "\n",
        "def initialize_preffix_sums(data):\n",
        "  preffix.clear()\n",
        "  preffix_squared.clear()\n",
        "\n",
        "  n = len(data)\n",
        "\n",
        "  # Vuelve los arreglos a que tengan n+1 0's\n",
        "  for i in range(n + 1):\n",
        "    preffix.append(0)\n",
        "    preffix_squared.append(0)\n",
        "\n",
        "  # Construye los valores de los arreglos iterativamente\n",
        "  for i in range(n):\n",
        "    preffix[i + 1] = preffix[i] + data[i]\n",
        "    preffix_squared[i+1] = preffix_squared[i] + (data[i])**2"
      ],
      "metadata": {
        "id": "kaOlK1YKSH7J"
      },
      "execution_count": null,
      "outputs": []
    },
    {
      "cell_type": "markdown",
      "source": [
        "2. Mirar por cada $i$ posible, sumar los costos del problema con $k=1$ de $data[0:i]$ y $data[i + 1: n - 1]$\n",
        "\n",
        "El costo en $\\mathbb{R}^1$ de la particion $data[l:r]$ con $k=1$, seria la distancia al cuadrado de cada punto con respecto el centroide de todos los puntos, por el lema visto en clase  \n",
        "$$\\sum_{i = l}^{r} (data[i] - c_1)^2 $$\n",
        "Note que esto es igual a\n",
        "$$= \\sum_{i = l}^{r} data[i]^2 - 2data[i]c_1 + c_1^2$$\n",
        "$$ =\\sum_{i = l}^{r} data[i]^2 - \\sum_{i = l}^{r} 2data[i]c_1 + \\sum_{i = l}^{r} c_1^2$$\n",
        "$$ =\\sum_{i = l}^{r} data[i]^2 - 2c_1\\sum_{i = l}^{r} data[i] + (r - l + 1)c_1^2$$\n",
        "\n",
        "Y lo podemos definir en terminos de `preffix` y `preffix_squared`\n",
        "\n",
        "$$ = (preffix\\_squared[r + 1] - preffix\\_squared[l]) - 2c_1(preffix[r + 1] - preffix[l])  + (r - l + 1)c_1^2$$\n",
        "\n",
        "Por lo que definimos la siguiente funcion `get_cost`, como esta en terminos de `preffix` y `preffix_squared`, toma $O(1)$ de operaciones"
      ],
      "metadata": {
        "id": "HgYuff7JJsk4"
      }
    },
    {
      "cell_type": "code",
      "source": [
        "def get_cost(data, l, r):\n",
        "  # Calcula el centroide como el promedio de los puntos\n",
        "  center = (preffix[r + 1] - preffix[l]) / (r - l + 1)\n",
        "\n",
        "  # Aplica la formula que se derivo anteriormente\n",
        "  total_cost = (preffix_squared[r + 1] - preffix_squared[l]) - (2 * center * (preffix[r + 1] - preffix[l])) + ((r - l + 1) * center**2)\n",
        "  return total_cost, center"
      ],
      "metadata": {
        "id": "9cD73yOGQC-G"
      },
      "execution_count": null,
      "outputs": []
    },
    {
      "cell_type": "markdown",
      "source": [
        "Concluyendo con la siguiente funcion\n",
        "\n",
        "Que hace lo siguiente\n",
        "\n",
        "1. Inicializa las variables `preffix` y `preffix\\_squared` con la funcion `initialize_preffix_sums`\n",
        "\n",
        "2. Iteramos $i$ de $0$ hasta $n-1$ para en cada iteracion, considerar el costo que generaria partir los 2 grupos en $data[0:i]$ y $data[i+1: n - 1]$"
      ],
      "metadata": {
        "id": "0lerdCcjfZMz"
      }
    },
    {
      "cell_type": "code",
      "source": [
        "def get_centers_k2(data):\n",
        "\n",
        "  #Inicializa los arreglos de prefijo, utiles para despues calcular los costos en O(1)\n",
        "  initialize_preffix_sums(data) # O(n)\n",
        "\n",
        "  min_cost = np.inf # O(1)\n",
        "  n = len(data) # O(n)\n",
        "\n",
        "  best_centers = [0, 0]\n",
        "\n",
        "  # Itera para calcular todas las formas de hacer una cortadura del arreglo data\n",
        "  for i in range(0, n - 1): # O(n)\n",
        "    cost1, center1 = get_cost(data, 0, i) # Calcula el centro optimo y el costo respectiv en O(1) para data[0:i]\n",
        "    cost2, center2 = get_cost(data, i+1, n - 1)\n",
        "\n",
        "  # Actualize la respuesta si la forma de partir el arreglo que estamos considerando lleva a una mejor respuesta\n",
        "    if cost1 + cost2 < min_cost:\n",
        "      min_cost = cost1 + cost2\n",
        "      best_centers = [center1, center2]\n",
        "\n",
        "  return min_cost, best_centers"
      ],
      "metadata": {
        "id": "us4mnE6gfcvS"
      },
      "execution_count": null,
      "outputs": []
    },
    {
      "cell_type": "markdown",
      "source": [
        "Considerando que la funcion `initialize_preffix_sums` toma $O(n)$ y `get_cost` toma $O(1)$ operaciones\n",
        "\n",
        "Se concluye entonces que la complejidad del algoritmo es\n",
        "$O(n)$"
      ],
      "metadata": {
        "id": "FGfonpsUlVuc"
      }
    },
    {
      "cell_type": "markdown",
      "source": [
        "Ejecutando la siguiente celda podemos crear y graficar ejemplos"
      ],
      "metadata": {
        "id": "IKafsVuTkApC"
      }
    },
    {
      "cell_type": "code",
      "source": [
        "n = 10**2\n",
        "\n",
        "data = np.random.randint(10**4, size=n)\n",
        "data.sort()\n",
        "\n",
        "cost, centers = get_centers_k2(data)\n",
        "\n",
        "# Codigo para graficar\n",
        "fig, ax = plt.subplots(figsize=(10,1))\n",
        "ax.spines['top'].set_visible(False)\n",
        "ax.spines['right'].set_visible(False)\n",
        "ax.spines['left'].set_visible(False)\n",
        "ax.spines['bottom'].set_position('zero')\n",
        "ax.spines['bottom'].set_alpha(0.5)\n",
        "ax.get_yaxis().set_visible(False)\n",
        "ax.scatter(data, [0 for _ in range(n)], s=10)\n",
        "ax.scatter(centers, [0 for _ in range(k)], color = 'red', s=50)\n",
        "plt.show()\n",
        "print(\"centers: \", *centers)\n",
        "print(\"cost: \", cost)"
      ],
      "metadata": {
        "id": "QyqlVEC9a7di",
        "colab": {
          "base_uri": "https://localhost:8080/",
          "height": 151
        },
        "outputId": "f843b77b-9957-4054-dbb8-72f1965844de"
      },
      "execution_count": null,
      "outputs": [
        {
          "output_type": "display_data",
          "data": {
            "text/plain": [
              "<Figure size 1000x100 with 1 Axes>"
            ],
            "image/png": "[encoded data removed]"
          },
          "metadata": {}
        },
        {
          "output_type": "stream",
          "name": "stdout",
          "text": [
            "centers:  2157.2558139534885 7325.333333333333\n",
            "cost:  189530802.85271347\n"
          ]
        }
      ]
    },
    {
      "cell_type": "markdown",
      "source": [
        "## Resuelva el problema correspondiente para k = 3 en $\\mathbb{R}^1$ en tiempo cuadrático ($O(n^2$)), y generalice a cualquier $k$"
      ],
      "metadata": {
        "id": "qVPM2gsimhWd"
      }
    },
    {
      "cell_type": "markdown",
      "source": [
        "Para el problema con $k=3$ vamos a de nuevo ver formas de partir el arreglo en 2 pedazos, uno para tomar el centroide, y el otro para resolver el problema de $k=2$ con tal cortadura, para volver a reutilizar los arreglos de prefijo, debemos modificar el algoritmo de k2 para que trabaje con los indices de la cortadura"
      ],
      "metadata": {
        "id": "fGjrRk4zmwjn"
      }
    },
    {
      "cell_type": "code",
      "source": [
        "def get_centers_k2_modified(data, l, r):\n",
        "  initialize_preffix_sums(data) # O(n)\n",
        "\n",
        "  min_cost = np.inf # O(1)\n",
        "  n = r - l\n",
        "\n",
        "  best_centers = [0, 0]\n",
        "  for i in range(0, n - 1): # O(n)\n",
        "    cost1, center1 = get_cost(data, l, l + i) # O(1)\n",
        "    cost2, center2 = get_cost(data, l + i + 1, r - 1) # O(1)\n",
        "\n",
        "    if cost1 + cost2 < min_cost:\n",
        "      min_cost = cost1 + cost2\n",
        "      best_centers = [center1, center2]\n",
        "\n",
        "  return min_cost, best_centers"
      ],
      "metadata": {
        "id": "_WP68V0Lp9Xv"
      },
      "execution_count": null,
      "outputs": []
    },
    {
      "cell_type": "markdown",
      "source": [
        "Ahora podemos resolver el problema de hallar solucion para el problema de $k=2$ con $data[l:r]$, y usarlo para resolver el problema de $k=3$\n",
        "\n",
        "1. Inicializa los arreglos de prefijo, esto para calcular los costos en $O(1)$ despues\n",
        "\n",
        "2. Itera $i$ de $0$ hasta $n-3$, creando dos grupos $data[0:i]$, y $data[i+1:n - 1]$, y a este ultimo se resuelve el problema de k2"
      ],
      "metadata": {
        "id": "bOgWIhkeqipe"
      }
    },
    {
      "cell_type": "code",
      "source": [
        "def get_centers_k3(data):\n",
        "\n",
        "  # Inicialize los arreglos de prefijo\n",
        "  initialize_preffix_sums(data) # O(n)\n",
        "\n",
        "  n = len(data) # O(n)\n",
        "  min_cost = np.inf\n",
        "\n",
        "  best_centers = [0, 0, 0]\n",
        "\n",
        "  # Itere sobre i para luego crear 2 grupos\n",
        "  for i in range(0, n - 2): # O(n)\n",
        "\n",
        "    # Calcula el centro optimo y el costo respectiv en O(1) para data[0:i]\n",
        "    cost1, center1 = get_cost(data, 0, i) # O(1)\n",
        "\n",
        "    # Centros y costo respectivo del problema k2 para data[i+1:n-1]\n",
        "    cost2, centers2 = get_centers_k2_modified(data, i+1, n) # O(n)\n",
        "\n",
        "    if cost1 + cost2 < min_cost:\n",
        "      min_cost = cost1 + cost2\n",
        "\n",
        "      # concatena los centros que resultaron de data[i+1:n] con el centro de data[0:i]\n",
        "      best_centers = [center1] + centers2\n",
        "\n",
        "  return min_cost, best_centers"
      ],
      "metadata": {
        "id": "e5Rj7UKumu_O"
      },
      "execution_count": null,
      "outputs": []
    },
    {
      "cell_type": "markdown",
      "source": [
        "Como dentro for se itera $O(n)$ veces y se ejecuta `get_centers_k2_modified` que toma $O(n)$ operaciones, el tiempo de ejecucion del algoritmo es $O(n^2)$"
      ],
      "metadata": {
        "id": "9knX_VRi2Shp"
      }
    },
    {
      "cell_type": "markdown",
      "source": [
        "Ejecutando la siguiente celda podemos crear y graficar ejemplos\n"
      ],
      "metadata": {
        "id": "HRy0LcAHsJ0O"
      }
    },
    {
      "cell_type": "code",
      "source": [
        "n = 10**2\n",
        "\n",
        "data = np.random.randint(10**4, size=n)\n",
        "data.sort()\n",
        "\n",
        "cost, centers = get_centers_k3(data)\n",
        "\n",
        "# Codigo para graficar\n",
        "fig, ax = plt.subplots(figsize=(10,1))\n",
        "ax.spines['top'].set_visible(False)\n",
        "ax.spines['right'].set_visible(False)\n",
        "ax.spines['left'].set_visible(False)\n",
        "ax.spines['bottom'].set_position('zero')\n",
        "ax.spines['bottom'].set_alpha(0.5)\n",
        "ax.get_yaxis().set_visible(False)\n",
        "ax.scatter(data, [0 for _ in range(n)], s=10)\n",
        "ax.scatter(centers, [0, 0, 0], color = 'red', s=50)\n",
        "plt.show()\n",
        "print(\"centers: \", *centers)\n",
        "print(\"cost: \", cost)"
      ],
      "metadata": {
        "colab": {
          "base_uri": "https://localhost:8080/",
          "height": 151
        },
        "id": "5x5Ll3wopoNe",
        "outputId": "01037c83-df56-4c35-a7d3-022dcdb05aea"
      },
      "execution_count": null,
      "outputs": [
        {
          "output_type": "display_data",
          "data": {
            "text/plain": [
              "<Figure size 1000x100 with 1 Axes>"
            ],
            "image/png": "[encoded data removed]"
          },
          "metadata": {}
        },
        {
          "output_type": "stream",
          "name": "stdout",
          "text": [
            "centers:  1532.4722222222222 4575.212121212121 8210.387096774193\n",
            "cost:  96643143.84221269\n"
          ]
        }
      ]
    },
    {
      "cell_type": "markdown",
      "source": [
        "### Generalizar para cualquier $k$ en tiempo $O(n^{k-1})$"
      ],
      "metadata": {
        "id": "HpHgiFPt1_DF"
      }
    },
    {
      "cell_type": "markdown",
      "source": [
        "Utilizando la idea de que los grupos terminan siendo terminos adjacentes, podemos generalizar de que para el problema con $k$ general\n",
        "\n",
        "- Si $k=1$, entonces se toma el centroide como centro\n",
        "- En otro caso, se itera por todas las formas de partir $data$ en 2 pedazos, uno resolviendo el problema con $k'=1$, y el otro con $k' = k - 1$\n",
        "\n",
        "Por lo que esta logica recursiva se ve plasmada en la siguiente funcion"
      ],
      "metadata": {
        "id": "zhXboND0t83d"
      }
    },
    {
      "cell_type": "code",
      "source": [
        "def get_centers_indexes(data, k, l, r):\n",
        "  n = r - l\n",
        "\n",
        "  # Caso base\n",
        "  if k == 1:\n",
        "    cost, center = get_cost(data, l, r - 1)\n",
        "    return cost, [center]\n",
        "  #Caso inductivo\n",
        "  else:\n",
        "\n",
        "    # Inicializar variables\n",
        "    min_cost = np.inf\n",
        "    best_centers = [0 for _ in range(k)]\n",
        "\n",
        "    for i in range(0, n - k + 1):\n",
        "      # el n - k + 1 es para tener siempre la longitud del subarreglo al que vamos a resolver el problema de k-1 mayor o igual a k-1\n",
        "\n",
        "      # Resolver el problema para k' = 1\n",
        "      cost1, center1 = get_cost(data, l, l + i)\n",
        "\n",
        "      # Resolver el problema para k' = k - 1\n",
        "      cost2, centers2 = get_centers_indexes(data, k - 1, l + i + 1, r)\n",
        "\n",
        "      # Actualizar respuesta si actual particion lleva a mejor respuesta\n",
        "      if cost1 + cost2 < min_cost:\n",
        "        min_cost = cost1 + cost2\n",
        "        best_centers = [center1] + centers2\n",
        "\n",
        "    return min_cost, best_centers"
      ],
      "metadata": {
        "id": "I47yHf3xuJ9F"
      },
      "execution_count": null,
      "outputs": []
    },
    {
      "cell_type": "markdown",
      "source": [
        "La funcion anterior requiere de iniciar con indices y tener los arreglos de prefijos ya listos\n",
        "\n",
        "\n",
        "Por eso, la siguiente funcion envuelve esto y la anterior logica para solucionar el problema para k general"
      ],
      "metadata": {
        "id": "gE3qq2oI0NfT"
      }
    },
    {
      "cell_type": "code",
      "source": [
        "def get_centers(data, k):\n",
        "  n = len(data)\n",
        "  initialize_preffix_sums(data)\n",
        "\n",
        "  return get_centers_indexes(data, k, 0, n)"
      ],
      "metadata": {
        "id": "SE0oZMAsnFFC"
      },
      "execution_count": null,
      "outputs": []
    },
    {
      "cell_type": "markdown",
      "source": [
        "Ejecutando la siguiente celda podemos crear y graficar ejemplos para $n \\geq k$"
      ],
      "metadata": {
        "id": "ymkdM0-YyXsy"
      }
    },
    {
      "cell_type": "code",
      "source": [
        "n = 30\n",
        "k = 7\n",
        "\n",
        "data = np.random.randint(10**4, size=n)\n",
        "data.sort()\n",
        "\n",
        "cost, centers = get_centers(data, k)\n",
        "\n",
        "# Codigo para graficar\n",
        "fig, ax = plt.subplots(figsize=(10,1))\n",
        "ax.spines['top'].set_visible(False)\n",
        "ax.spines['right'].set_visible(False)\n",
        "ax.spines['left'].set_visible(False)\n",
        "ax.spines['bottom'].set_position('zero')\n",
        "ax.spines['bottom'].set_alpha(0.5)\n",
        "ax.get_yaxis().set_visible(False)\n",
        "ax.scatter(data, [0 for _ in range(n)], s=10)\n",
        "ax.scatter(centers, [0 for _ in range(k)], color = 'red', s=50)\n",
        "plt.show()\n",
        "print(\"centers: \", *centers)\n",
        "print(\"cost: \", cost)"
      ],
      "metadata": {
        "colab": {
          "base_uri": "https://localhost:8080/",
          "height": 151
        },
        "id": "p0KEAo3EbwTn",
        "outputId": "6315ab4d-930d-4f33-f801-3aa2123ea85e"
      },
      "execution_count": null,
      "outputs": [
        {
          "output_type": "display_data",
          "data": {
            "text/plain": [
              "<Figure size 1000x100 with 1 Axes>"
            ],
            "image/png": "[encoded data removed]"
          },
          "metadata": {}
        },
        {
          "output_type": "stream",
          "name": "stdout",
          "text": [
            "centers:  584.0 1883.0 3078.0 5472.0 6577.0 8165.833333333333 9599.0\n",
            "cost:  3003494.833333373\n"
          ]
        }
      ]
    }
  ]
}